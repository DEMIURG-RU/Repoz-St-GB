{
 "cells": [
  {
   "cell_type": "markdown",
   "id": "6df01f2f",
   "metadata": {},
   "source": [
    "__1.__ 4 cards are randomly drawn from a 52-card deck.\n",
    "\n",
    "    a) Find the probability that all the cards are crosses.\n"
   ]
  },
  {
   "cell_type": "code",
   "execution_count": 2,
   "id": "912544a2",
   "metadata": {},
   "outputs": [],
   "source": [
    "from math import factorial\n",
    "def combinations(n, k):\n",
    "    return int(factorial(n) / (factorial(k) * factorial(n - k)))"
   ]
  },
  {
   "cell_type": "code",
   "execution_count": 3,
   "id": "16508704",
   "metadata": {
    "scrolled": true
   },
   "outputs": [
    {
     "data": {
      "text/plain": [
       "715"
      ]
     },
     "execution_count": 3,
     "metadata": {},
     "output_type": "execute_result"
    }
   ],
   "source": [
    "# an auspicious event of 13 cards\n",
    "all_cr = combinations(13,4)\n",
    "all_cr"
   ]
  },
  {
   "cell_type": "code",
   "execution_count": 5,
   "id": "829617c5",
   "metadata": {},
   "outputs": [
    {
     "data": {
      "text/plain": [
       "270725"
      ]
     },
     "execution_count": 5,
     "metadata": {},
     "output_type": "execute_result"
    }
   ],
   "source": [
    "# favorable event of 52 cards\n",
    "cards_4 = combinations(52,4)\n",
    "cards_4"
   ]
  },
  {
   "cell_type": "code",
   "execution_count": 9,
   "id": "7d4a52ad",
   "metadata": {},
   "outputs": [
    {
     "data": {
      "text/plain": [
       "0.0026410564225690276"
      ]
     },
     "execution_count": 9,
     "metadata": {},
     "output_type": "execute_result"
    }
   ],
   "source": [
    "C1 = all_cr/cards_4\n",
    "C1"
   ]
  },
  {
   "cell_type": "code",
   "execution_count": 50,
   "id": "ff0802d6",
   "metadata": {},
   "outputs": [
    {
     "name": "stdout",
     "output_type": "stream",
     "text": [
      "the probability of an event is very small: 0.26410564225690275\n"
     ]
    }
   ],
   "source": [
    "print('the probability of an event is very small:', C1*100)"
   ]
  },
  {
   "cell_type": "markdown",
   "id": "7bc57ced",
   "metadata": {},
   "source": [
    "b) Find the probability that there will be at least one ace among the 4 cards."
   ]
  },
  {
   "cell_type": "code",
   "execution_count": 19,
   "id": "fab0241d",
   "metadata": {},
   "outputs": [
    {
     "data": {
      "text/plain": [
       "69184"
      ]
     },
     "execution_count": 19,
     "metadata": {},
     "output_type": "execute_result"
    }
   ],
   "source": [
    "#calculating the probability of the 1st ace of 4 cards and the probability of 3 non-aces from the remaining 48 cards\n",
    "ace_1 = combinations(4,1) * combinations(48,3)\n",
    "ace_1"
   ]
  },
  {
   "cell_type": "code",
   "execution_count": 20,
   "id": "de1cc07e",
   "metadata": {},
   "outputs": [
    {
     "data": {
      "text/plain": [
       "6768"
      ]
     },
     "execution_count": 20,
     "metadata": {},
     "output_type": "execute_result"
    }
   ],
   "source": [
    "#calculating the probability of 2 aces from 4 cards and the probability of 2 non-aces from the remaining 48 cards\n",
    "ace_2 = combinations(4,2) * combinations(48,2)\n",
    "ace_2"
   ]
  },
  {
   "cell_type": "code",
   "execution_count": 21,
   "id": "d9893eba",
   "metadata": {},
   "outputs": [
    {
     "data": {
      "text/plain": [
       "192"
      ]
     },
     "execution_count": 21,
     "metadata": {},
     "output_type": "execute_result"
    }
   ],
   "source": [
    "#calculating the probability of 3 aces from 4 cards and the probability of 3 non-aces from the remaining 48 cards\n",
    "ace_3 = combinations(4,3) * combinations(48,1)\n",
    "ace_3"
   ]
  },
  {
   "cell_type": "code",
   "execution_count": 22,
   "id": "4f741a24",
   "metadata": {},
   "outputs": [
    {
     "data": {
      "text/plain": [
       "1"
      ]
     },
     "execution_count": 22,
     "metadata": {},
     "output_type": "execute_result"
    }
   ],
   "source": [
    "#calculating the probability of all aces from 4 cards, there are no more aces in the remaining 48 cards\n",
    "ace_4 = combinations(4,4) * combinations(48,0)\n",
    "ace_4"
   ]
  },
  {
   "cell_type": "code",
   "execution_count": 23,
   "id": "236bb684",
   "metadata": {},
   "outputs": [
    {
     "data": {
      "text/plain": [
       "270725"
      ]
     },
     "execution_count": 23,
     "metadata": {},
     "output_type": "execute_result"
    }
   ],
   "source": [
    "#the total number of options to pull out 4 basins from 52 cards\n",
    "total_var = combinations(52,4)\n",
    "total_var"
   ]
  },
  {
   "cell_type": "code",
   "execution_count": 24,
   "id": "60dc20c6",
   "metadata": {},
   "outputs": [
    {
     "data": {
      "text/plain": [
       "0.2812632745405855"
      ]
     },
     "execution_count": 24,
     "metadata": {},
     "output_type": "execute_result"
    }
   ],
   "source": [
    "prob = (ace_1 + ace_2 + ace_3 + ace_4)/total_var\n",
    "prob"
   ]
  },
  {
   "cell_type": "code",
   "execution_count": 49,
   "id": "535462c7",
   "metadata": {},
   "outputs": [
    {
     "name": "stdout",
     "output_type": "stream",
     "text": [
      "the probability that there will be at least one ace among the 4 cards: 28.126327454058547\n"
     ]
    }
   ],
   "source": [
    "print('the probability that there will be at least one ace among the 4 cards:', prob*100)"
   ]
  },
  {
   "cell_type": "markdown",
   "id": "b8ee6dc1",
   "metadata": {},
   "source": [
    "__2.__ A combination lock containing ten buttons with numbers from 0 to 9 is installed on the entrance door of the entrance. The code contains three digits that need to be pressed simultaneously. What is the probability that a person who does not know the code will open the door on the first attempt??"
   ]
  },
  {
   "cell_type": "code",
   "execution_count": 34,
   "id": "add54566",
   "metadata": {},
   "outputs": [
    {
     "data": {
      "text/plain": [
       "120"
      ]
     },
     "execution_count": 34,
     "metadata": {},
     "output_type": "execute_result"
    }
   ],
   "source": [
    "#total number of possible 3-digit code\n",
    "var_c = combinations(10, 3)\n",
    "var_c"
   ]
  },
  {
   "cell_type": "code",
   "execution_count": 35,
   "id": "788da913",
   "metadata": {},
   "outputs": [],
   "source": [
    "#code options. only 1\n",
    "code = 1"
   ]
  },
  {
   "cell_type": "code",
   "execution_count": 36,
   "id": "502ca8dd",
   "metadata": {},
   "outputs": [
    {
     "data": {
      "text/plain": [
       "0.008333333333333333"
      ]
     },
     "execution_count": 36,
     "metadata": {},
     "output_type": "execute_result"
    }
   ],
   "source": [
    "#the probability that a person who does not know the code will open the door on the first attempt\n",
    "prob_2 = code/var_c\n",
    "prob_2"
   ]
  },
  {
   "cell_type": "code",
   "execution_count": 37,
   "id": "71fba7c1",
   "metadata": {},
   "outputs": [
    {
     "name": "stdout",
     "output_type": "stream",
     "text": [
      "probability that a person who does not know the code will open the door on the first attempt: 0.8333333333333334\n"
     ]
    }
   ],
   "source": [
    "print('probability that a person who does not know the code will open the door on the first attempt:', prob_2*100)"
   ]
  },
  {
   "cell_type": "markdown",
   "id": "9dc28448",
   "metadata": {},
   "source": [
    "__3.__ There are 15 parts in the box, of which 9 are painted. The worker randomly extracts 3 parts. What is the probability that all the extracted parts are painted?"
   ]
  },
  {
   "cell_type": "code",
   "execution_count": 38,
   "id": "4e0fceb6",
   "metadata": {},
   "outputs": [
    {
     "data": {
      "text/plain": [
       "84"
      ]
     },
     "execution_count": 38,
     "metadata": {},
     "output_type": "execute_result"
    }
   ],
   "source": [
    "#possible favorable events 3 out of 9\n",
    "var_c3 = combinations(9,3)\n",
    "var_c3"
   ]
  },
  {
   "cell_type": "code",
   "execution_count": 39,
   "id": "83a8550a",
   "metadata": {},
   "outputs": [
    {
     "data": {
      "text/plain": [
       "455"
      ]
     },
     "execution_count": 39,
     "metadata": {},
     "output_type": "execute_result"
    }
   ],
   "source": [
    "#number of options to pull 3 balls out of 15\n",
    "var_total = combinations(15,3)\n",
    "var_total"
   ]
  },
  {
   "cell_type": "code",
   "execution_count": 40,
   "id": "cbf9831e",
   "metadata": {},
   "outputs": [
    {
     "data": {
      "text/plain": [
       "0.18461538461538463"
      ]
     },
     "execution_count": 40,
     "metadata": {},
     "output_type": "execute_result"
    }
   ],
   "source": [
    "#the probability of a favorable outcome of the event\n",
    "prob_3 = var_c3/var_total\n",
    "prob_3"
   ]
  },
  {
   "cell_type": "markdown",
   "id": "689c345c",
   "metadata": {},
   "source": [
    "__4.__ There are 100 tickets in the lottery. Of these, 2 are winning. What is the probability that 2 purchased tickets will be winning?"
   ]
  },
  {
   "cell_type": "code",
   "execution_count": 46,
   "id": "23bfa782",
   "metadata": {},
   "outputs": [
    {
     "data": {
      "text/plain": [
       "1"
      ]
     },
     "execution_count": 46,
     "metadata": {},
     "output_type": "execute_result"
    }
   ],
   "source": [
    "#the probability that the drawn 2 tickets are winning, only 1 (one),\n",
    "#out of all the remaining 98 cards in which there are no winning tickets.\n",
    "var_win = combinations(2,2) * combinations(98,0)\n",
    "var_win"
   ]
  },
  {
   "cell_type": "code",
   "execution_count": 47,
   "id": "4bd84b0d",
   "metadata": {},
   "outputs": [
    {
     "data": {
      "text/plain": [
       "4950"
      ]
     },
     "execution_count": 47,
     "metadata": {},
     "output_type": "execute_result"
    }
   ],
   "source": [
    "#possible winning options of 2 tickets out of 100\n",
    "var_t4 = combinations(100,2)\n",
    "var_t4"
   ]
  },
  {
   "cell_type": "code",
   "execution_count": 48,
   "id": "dcea023f",
   "metadata": {},
   "outputs": [
    {
     "data": {
      "text/plain": [
       "0.00020202020202020202"
      ]
     },
     "execution_count": 48,
     "metadata": {},
     "output_type": "execute_result"
    }
   ],
   "source": [
    "#the probability that 2 purchased tickets will be winning\n",
    "prob_4 = var_win/var_t4\n",
    "prob_4"
   ]
  }
 ],
 "metadata": {
  "kernelspec": {
   "display_name": "Python 3",
   "language": "python",
   "name": "python3"
  },
  "language_info": {
   "codemirror_mode": {
    "name": "ipython",
    "version": 3
   },
   "file_extension": ".py",
   "mimetype": "text/x-python",
   "name": "python",
   "nbconvert_exporter": "python",
   "pygments_lexer": "ipython3",
   "version": "3.8.8"
  }
 },
 "nbformat": 4,
 "nbformat_minor": 5
}
