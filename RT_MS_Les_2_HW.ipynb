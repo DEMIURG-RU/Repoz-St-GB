{
 "cells": [
  {
   "cell_type": "markdown",
   "id": "d8b96b7a",
   "metadata": {},
   "source": [
    "####  Задание 1\n",
    "Вероятность того, что стрелок попадет в мишень, выстрелив один раз, равна 0.8.\n",
    "Стрелок выстрелил 100 раз. Найдите вероятность того, что стрелок попадет в цель ровно 85 раз."
   ]
  },
  {
   "cell_type": "code",
   "execution_count": 1,
   "id": "c9efa974",
   "metadata": {},
   "outputs": [],
   "source": [
    "import numpy as np\n",
    "from math import factorial"
   ]
  },
  {
   "cell_type": "code",
   "execution_count": 2,
   "id": "aa946a49",
   "metadata": {},
   "outputs": [],
   "source": [
    "def combinations(n, k):\n",
    "    return int(factorial(n) / (factorial(k) * factorial(n - k)))"
   ]
  },
  {
   "cell_type": "code",
   "execution_count": 3,
   "id": "50b83042",
   "metadata": {},
   "outputs": [],
   "source": [
    "#We take the binomial distribution, and use Bernoulli's formula to calculate the probability.\n",
    "p1, n1, k1 = 0.8, 100, 85"
   ]
  },
  {
   "cell_type": "markdown",
   "id": "75c6fec0",
   "metadata": {},
   "source": [
    "$$p(k=85) = C_n^kp^kq^{n-k} = C_{100}^{85}0.8^{85}(1-0.8)^{15}$$"
   ]
  },
  {
   "cell_type": "code",
   "execution_count": 4,
   "id": "9057f6e2",
   "metadata": {},
   "outputs": [
    {
     "data": {
      "text/plain": [
       "0.048061793700746355"
      ]
     },
     "execution_count": 4,
     "metadata": {},
     "output_type": "execute_result"
    }
   ],
   "source": [
    "P1 = combinations(n1, k1) * (p1**k1) * ((1-p1)**(n1-k1))\n",
    "P1"
   ]
  },
  {
   "cell_type": "markdown",
   "id": "88e0f918",
   "metadata": {},
   "source": [
    "#### Задание 2\n",
    "Вероятность того, что лампочка перегорит в течение первого дня эксплуатации, равна 0.0004.\n",
    "В жилом комплексе после ремонта в один день включили 5000 новых лампочек."
   ]
  },
  {
   "cell_type": "markdown",
   "id": "7f898c6d",
   "metadata": {},
   "source": [
    "#### Какова вероятность, что ни одна из них не перегорит в первый день?\n",
    "Т.к. вероятность мала, а кол-во испытаний большое, можем использовать формулу Пуассона:"
   ]
  },
  {
   "cell_type": "markdown",
   "id": "f124aa97",
   "metadata": {},
   "source": [
    "\n",
    "\n",
    "$$P_m \\approx \\frac{\\lambda^m}{m!}e^{-\\lambda}$$\n",
    "\n",
    "**where** $λ = np$."
   ]
  },
  {
   "cell_type": "code",
   "execution_count": 10,
   "id": "71d3d45a",
   "metadata": {},
   "outputs": [],
   "source": [
    "n2, p2, m1 = 5000, 0.0004, 1\n",
    "lambda_2 = n2 * p2"
   ]
  },
  {
   "cell_type": "code",
   "execution_count": 11,
   "id": "1d78820d",
   "metadata": {},
   "outputs": [
    {
     "data": {
      "text/plain": [
       "0.2706705664732254"
      ]
     },
     "execution_count": 11,
     "metadata": {},
     "output_type": "execute_result"
    }
   ],
   "source": [
    "P21 = (lambda_2**m1 / np.math.factorial(m1)) * np.exp(-lambda_2)\n",
    "P21"
   ]
  },
  {
   "cell_type": "code",
   "execution_count": 12,
   "id": "fe977ae5",
   "metadata": {},
   "outputs": [
    {
     "data": {
      "text/plain": [
       "0.27032871972318334"
      ]
     },
     "execution_count": 12,
     "metadata": {},
     "output_type": "execute_result"
    }
   ],
   "source": [
    "P221 = (lambda_2**m1 / np.math.factorial(m1)) * 2.72**(-lambda_2)\n",
    "P221"
   ]
  },
  {
   "cell_type": "markdown",
   "id": "10983632",
   "metadata": {},
   "source": [
    "вероятность события для одной лампочки, действительно очень мала. Однако когда их 5000, вероятность - выше."
   ]
  },
  {
   "cell_type": "markdown",
   "id": "056cbee3",
   "metadata": {},
   "source": [
    "#### Какова вероятность, что перегорят ровно две?"
   ]
  },
  {
   "cell_type": "code",
   "execution_count": 13,
   "id": "149a3267",
   "metadata": {},
   "outputs": [
    {
     "data": {
      "text/plain": [
       "0.2706705664732254"
      ]
     },
     "execution_count": 13,
     "metadata": {},
     "output_type": "execute_result"
    }
   ],
   "source": [
    "m2 = 2\n",
    "P22 = (lambda_2**m2 / np.math.factorial(m2)) * np.exp(-lambda_2)\n",
    "P22"
   ]
  },
  {
   "cell_type": "code",
   "execution_count": 15,
   "id": "0ea1474d",
   "metadata": {},
   "outputs": [
    {
     "data": {
      "text/plain": [
       "0.27032871972318334"
      ]
     },
     "execution_count": 15,
     "metadata": {},
     "output_type": "execute_result"
    }
   ],
   "source": [
    "P222 = (lambda_2**m2 / np.math.factorial(m2)) * 2.72**(-lambda_2)\n",
    "P222"
   ]
  },
  {
   "cell_type": "markdown",
   "id": "5b972d37",
   "metadata": {},
   "source": [
    "#### Задание 3\n",
    "Монету подбросили 144 раза. Какова вероятность, что орел выпадет ровно 70 раз?"
   ]
  },
  {
   "cell_type": "code",
   "execution_count": 16,
   "id": "8c02c35f",
   "metadata": {},
   "outputs": [
    {
     "data": {
      "text/plain": [
       "0.06640055025016327"
      ]
     },
     "execution_count": 16,
     "metadata": {},
     "output_type": "execute_result"
    }
   ],
   "source": [
    "#We take the binomial distribution, and use Bernoulli's formula to calculate the probability.\n",
    "n3, k3 = 144, 70\n",
    "p3 = k3/n3\n",
    "P3 = combinations(n3, k3) * (p3**k3) * ((1-p3)**(n3-k3))\n",
    "P3"
   ]
  },
  {
   "cell_type": "markdown",
   "id": "b04ae0b0",
   "metadata": {},
   "source": [
    "#### Задание 4\n",
    "В первом ящике находится 10 мячей, из которых 7 - белые.\n",
    "Во втором ящике - 11 мячей, из которых 9 белых.\n",
    "Из каждого ящика вытаскивают случайным образом по два мяча."
   ]
  },
  {
   "cell_type": "markdown",
   "id": "6d58bcc6",
   "metadata": {},
   "source": [
    "#### Какова вероятность того, что все мячи белые?"
   ]
  },
  {
   "cell_type": "code",
   "execution_count": 18,
   "id": "8cb83483",
   "metadata": {},
   "outputs": [
    {
     "data": {
      "text/plain": [
       "0.3054545454545454"
      ]
     },
     "execution_count": 18,
     "metadata": {},
     "output_type": "execute_result"
    }
   ],
   "source": [
    "#We find the probability of each drawing of a white ball, from each of the baskets\n",
    "ball_1, white_1, ball_2, white_2 = 10, 7, 11, 9\n",
    "C_11 = white_1/ball_1 \n",
    "C_12 = (white_1-1)/(ball_1-1)\n",
    "C_21 = white_2/ball_2\n",
    "C_22 = (white_2-1)/(ball_2-1)\n",
    "P4_1 = C_11 * C_12 * C_21 * C_22\n",
    "P4_1"
   ]
  },
  {
   "cell_type": "markdown",
   "id": "9c109b56",
   "metadata": {},
   "source": [
    "#### Какова вероятность того, что ровно два мяча белые?"
   ]
  },
  {
   "cell_type": "code",
   "execution_count": 19,
   "id": "0aba224f",
   "metadata": {},
   "outputs": [
    {
     "name": "stdout",
     "output_type": "stream",
     "text": [
      "3 2\n"
     ]
    }
   ],
   "source": [
    "#Calculate the probability of each of the possible options, pull out two white balls at once\n",
    "#To do this, let's determine how many balls in each basket are not white\n",
    "b_nw_1 = ball_1 - white_1\n",
    "b_nw_2 = ball_2 - white_2\n",
    "print(b_nw_1, b_nw_2)"
   ]
  },
  {
   "cell_type": "code",
   "execution_count": 20,
   "id": "d31f4f38",
   "metadata": {},
   "outputs": [
    {
     "data": {
      "text/plain": [
       "0.1806060606060606"
      ]
     },
     "execution_count": 20,
     "metadata": {},
     "output_type": "execute_result"
    }
   ],
   "source": [
    "#option one is white the second is not white from the same and the second basket\n",
    "P4_21 = ((white_1/ball_1 * b_nw_1/(ball_1 - 1)) + (b_nw_1/ball_1 * white_1/(ball_1-1))) * (b_nw_2/ball_2 * b_nw_2/(ball_2 - 1)) + ((b_nw_2/ball_2 * white_2/(ball_2-1)))\n",
    "P4_21"
   ]
  },
  {
   "cell_type": "code",
   "execution_count": 21,
   "id": "70895c8a",
   "metadata": {},
   "outputs": [
    {
     "data": {
      "text/plain": [
       "0.016969696969696964"
      ]
     },
     "execution_count": 21,
     "metadata": {},
     "output_type": "execute_result"
    }
   ],
   "source": [
    "#option 2 white ones from the first drawer and 2 regular ones from the second drawer\n",
    "P4_221 = white_1/ball_1 * (white_1 - 1)/(ball_1 - 1) * b_nw_2/ball_2 * (b_nw_1 - 1)/(ball_2 - 1)\n",
    "P4_221"
   ]
  },
  {
   "cell_type": "code",
   "execution_count": 22,
   "id": "9619f873",
   "metadata": {},
   "outputs": [
    {
     "data": {
      "text/plain": [
       "0.04363636363636363"
      ]
     },
     "execution_count": 22,
     "metadata": {},
     "output_type": "execute_result"
    }
   ],
   "source": [
    "P4_222 = b_nw_1/ball_1 * (b_nw_1 - 1)/(ball_1 - 1) * white_2/ball_2 * (white_2 - 1)/(ball_2 - 1)\n",
    "P4_222"
   ]
  },
  {
   "cell_type": "code",
   "execution_count": 23,
   "id": "5cc4b19f",
   "metadata": {},
   "outputs": [
    {
     "name": "stdout",
     "output_type": "stream",
     "text": [
      "P4_2 = 0.2412121212121212\n"
     ]
    }
   ],
   "source": [
    "print('P4_2 =', P4_21+P4_221+P4_222)"
   ]
  },
  {
   "cell_type": "markdown",
   "id": "aa9a7881",
   "metadata": {},
   "source": [
    "#### Какова вероятность того, что хотя бы один мяч белый?"
   ]
  },
  {
   "cell_type": "code",
   "execution_count": 24,
   "id": "d7b74a75",
   "metadata": {},
   "outputs": [
    {
     "data": {
      "text/plain": [
       "0.9987878787878788"
      ]
     },
     "execution_count": 24,
     "metadata": {},
     "output_type": "execute_result"
    }
   ],
   "source": [
    "# We take the probability of an event as 1 - to pull out a white ball immediately. \n",
    "# Then the calculated probability can be calculated if you subtract the probability from 1, \n",
    "# pull non-white balls out of two boxes.\n",
    "\n",
    "P4_3 = 1 - b_nw_1/ball_1 * (b_nw_1 - 1)/(ball_1 - 1) * b_nw_2/ball_2 * (b_nw_2 - 1)/(ball_2 - 1)\n",
    "P4_3"
   ]
  }
 ],
 "metadata": {
  "kernelspec": {
   "display_name": "Python 3",
   "language": "python",
   "name": "python3"
  },
  "language_info": {
   "codemirror_mode": {
    "name": "ipython",
    "version": 3
   },
   "file_extension": ".py",
   "mimetype": "text/x-python",
   "name": "python",
   "nbconvert_exporter": "python",
   "pygments_lexer": "ipython3",
   "version": "3.8.8"
  }
 },
 "nbformat": 4,
 "nbformat_minor": 5
}
